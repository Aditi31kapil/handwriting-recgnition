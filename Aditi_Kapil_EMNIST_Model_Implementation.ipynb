{
 "cells": [
  {
   "cell_type": "markdown",
   "id": "c45a2d78",
   "metadata": {},
   "source": [
    "# Implementation of Machine Learning Models on EMNIST Dataset"
   ]
  },
  {
   "cell_type": "markdown",
   "id": "68cfa09c",
   "metadata": {},
   "source": [
    "Importing Libraries"
   ]
  },
  {
   "cell_type": "code",
   "execution_count": 1,
   "id": "b35e51b5",
   "metadata": {},
   "outputs": [
    {
     "name": "stdout",
     "output_type": "stream",
     "text": [
      "WARNING:tensorflow:From C:\\Users\\DELL\\anaconda3\\Lib\\site-packages\\keras\\src\\losses.py:2976: The name tf.losses.sparse_softmax_cross_entropy is deprecated. Please use tf.compat.v1.losses.sparse_softmax_cross_entropy instead.\n",
      "\n"
     ]
    }
   ],
   "source": [
    "# General imports\n",
    "import numpy as np\n",
    "import pandas as pd\n",
    "import os\n",
    "from sklearn.model_selection import train_test_split\n",
    "from sklearn.metrics import classification_report, confusion_matrix\n",
    "\n",
    "# Models\n",
    "import matplotlib as mpl\n",
    "import matplotlib.pyplot as plt\n",
    "from sklearn.neighbors import KNeighborsClassifier\n",
    "from sklearn.svm import SVC\n",
    "from sklearn.linear_model import LogisticRegression\n",
    "from sklearn.tree import DecisionTreeClassifier\n",
    "from sklearn.metrics import accuracy_score, confusion_matrix\n",
    "import seaborn as sns\n",
    "import tensorflow as tf\n",
    "from tensorflow import keras\n",
    "from tensorflow.keras.models import Sequential\n",
    "from tensorflow.keras.layers import Dense, Conv2D, Flatten, Dropout, MaxPooling2D\n",
    "from tensorflow.keras.utils import to_categorical"
   ]
  },
  {
   "cell_type": "markdown",
   "id": "3bc887ec",
   "metadata": {},
   "source": [
    "### Load and Preprocess the EMNIST Dataset"
   ]
  },
  {
   "cell_type": "code",
   "execution_count": null,
   "id": "ce70f5c4",
   "metadata": {},
   "outputs": [],
   "source": [
    "# Load the CSV files\n",
    "train_data = pd.read_csv('emnist-digits-train.csv')\n",
    "test_data = pd.read_csv('emnist-digits-test.csv')\n",
    "\n",
    "# Separate features and labels\n",
    "X_train = train_data.iloc[:, 1:].values  # All columns except the first are features\n",
    "y_train = train_data.iloc[:, 0].values   # First column is the label\n",
    "X_test = test_data.iloc[:, 1:].values\n",
    "y_test = test_data.iloc[:, 0].values\n",
    "\n",
    "# Normalize pixel values\n",
    "X_train = X_train / 255.0\n",
    "X_test = X_test / 255.0\n",
    "\n",
    "# Reshape for CNN (if needed)\n",
    "X_train_cnn = X_train.reshape(-1, 28, 28, 1)\n",
    "X_test_cnn = X_test.reshape(-1, 28, 28, 1)\n",
    "\n",
    "# One-hot encoding for CNN\n",
    "y_train_cnn = to_categorical(y_train)\n",
    "y_test_cnn = to_categorical(y_test)\n",
    "\n",
    "print(\"Data preprocessing completed!\")\n"
   ]
  },
  {
   "cell_type": "code",
   "execution_count": null,
   "id": "aebf6e3e",
   "metadata": {},
   "outputs": [],
   "source": [
    "# Print dataset information\n",
    "print(\"Size of the dataset:\", len(X_train) + len(X_test))\n",
    "print(\"Number of elements in the training set:\", len(X_train))\n",
    "print(\"Number of elements in the test set:\", len(X_test))\n",
    "\n",
    "# Visualize a sample image\n",
    "def plot_sample(index, data_set='train'):\n",
    "    if data_set == 'train':\n",
    "        sample = X_train[index]\n",
    "        label = y_train[index]\n",
    "    else:\n",
    "        sample = X_test[index]\n",
    "        label = \"Unknown\"  # No label in test set\n",
    "    \n",
    "    sample_image = sample.reshape(28, 28)\n",
    "    plt.imshow(sample_image, cmap=\"binary\")\n",
    "    plt.axis(\"off\")\n",
    "    plt.title(f\"Label: {label}\")\n",
    "    plt.show()\n",
    "\n",
    "# Plot sample image (e.g., index 810 from training set)\n",
    "plot_sample(810)\n"
   ]
  },
  {
   "cell_type": "markdown",
   "id": "1ea3737f",
   "metadata": {},
   "source": [
    "# 1. K-Nearest Neighbors (K-NN)"
   ]
  },
  {
   "cell_type": "code",
   "execution_count": null,
   "id": "1e7bfd1e",
   "metadata": {},
   "outputs": [],
   "source": [
    "# Implement K-NN\n",
    "knn = KNeighborsClassifier(n_neighbors=3)\n",
    "knn.fit(X_train.reshape(len(X_train), -1), y_train)\n",
    "y_pred_knn = knn.predict(X_test.reshape(len(X_test), -1))\n",
    "\n",
    "# Evaluate classification\n",
    "print(classification_report(y_test, y_pred_knn))"
   ]
  },
  {
   "cell_type": "code",
   "execution_count": null,
   "id": "3a559015",
   "metadata": {},
   "outputs": [],
   "source": [
    "#Evaluate Confusion Matrix\n",
    "knnaccuracy = knn.score(X_test, y_test)\n",
    "print(f\"Test accuracy: {knnaccuracy:.4f}\")\n",
    "cm = confusion_matrix(y_test, y_pred_knn)\n",
    "\n",
    "plt.figure(figsize=(10, 8))\n",
    "sns.heatmap(cm, annot=True, fmt=\"d\", cmap=\"Blues\")\n",
    "plt.xlabel(\"Predicted Label\")\n",
    "plt.ylabel(\"True Label\")\n",
    "plt.title(\"Confusion Matrix(KNN)\")\n",
    "plt.show()"
   ]
  },
  {
   "cell_type": "markdown",
   "id": "75c34811",
   "metadata": {},
   "source": [
    "### 2. Support Vector Machine (SVM)"
   ]
  },
  {
   "cell_type": "code",
   "execution_count": null,
   "id": "f6825b49",
   "metadata": {},
   "outputs": [],
   "source": [
    "# Implement SVM\n",
    "svm = SVC(C=1.0, kernel='linear')\n",
    "svm.fit(X_train.reshape(len(X_train), -1), y_train)\n",
    "y_pred_svm = svm.predict(X_test.reshape(len(X_test), -1))\n",
    "\n",
    "# Evaluate Classification\n",
    "print(classification_report(y_test, y_pred_svm))"
   ]
  },
  {
   "cell_type": "code",
   "execution_count": null,
   "id": "5d6f3af9",
   "metadata": {},
   "outputs": [],
   "source": [
    "#Evaluate Confusion Matrix\n",
    "svmaccuracy = accuracy_score(y_test, y_pred_svm)\n",
    "print(f\"Test accuracy: {svmaccuracy:.4f}\")\n",
    "\n",
    "cm = confusion_matrix(y_test, y_pred_svm)\n",
    "\n",
    "plt.figure(figsize=(10, 8))\n",
    "sns.heatmap(cm, annot=True, fmt=\"d\", cmap=\"Blues\")\n",
    "plt.xlabel(\"Predicted Label\")\n",
    "plt.ylabel(\"True Label\")\n",
    "plt.title(\"Confusion Matrix(SVM)\")\n",
    "plt.show()"
   ]
  },
  {
   "cell_type": "markdown",
   "id": "563ec657",
   "metadata": {},
   "source": [
    "### 3. Logistic Regression"
   ]
  },
  {
   "cell_type": "code",
   "execution_count": null,
   "id": "3d9f1590",
   "metadata": {},
   "outputs": [],
   "source": [
    "# Implement Logistic Regression\n",
    "log_reg = LogisticRegression(max_iter=500)\n",
    "log_reg.fit(X_train.reshape(len(X_train), -1), y_train)\n",
    "y_pred_log_reg = log_reg.predict(X_test.reshape(len(X_test), -1))\n",
    "\n",
    "# Evaluate Classification\n",
    "print(classification_report(y_test, y_pred_log_reg))"
   ]
  },
  {
   "cell_type": "code",
   "execution_count": null,
   "id": "2a21879e",
   "metadata": {},
   "outputs": [],
   "source": [
    "#Evaluate Confusion Matrix\n",
    "logregaccuracy = logreg.score(X_test, y_test)\n",
    "print(f\"Logistic Regression Test Accuracy: {logregaccuracy:.4f}\")\n",
    "\n",
    "cm_logreg = confusion_matrix(y_test, y_pred_log_reg)\n",
    "\n",
    "plt.figure(figsize=(10, 8))\n",
    "sns.heatmap(cm_logreg, annot=True, fmt=\"d\", cmap=\"Blues\")\n",
    "plt.xlabel(\"Predicted Label\")\n",
    "plt.ylabel(\"True Label\")\n",
    "plt.title(\"Confusion Matrix (Logistic Regression)\")\n",
    "plt.show()"
   ]
  },
  {
   "cell_type": "markdown",
   "id": "978176ba",
   "metadata": {},
   "source": [
    "### 4. Decision Tree"
   ]
  },
  {
   "cell_type": "code",
   "execution_count": null,
   "id": "b65a1472",
   "metadata": {},
   "outputs": [],
   "source": [
    "# Implement Decision Tree\n",
    "decision_tree = DecisionTreeClassifier(max_depth=10)\n",
    "decision_tree.fit(X_train.reshape(len(X_train), -1), y_train)\n",
    "y_pred_tree = decision_tree.predict(X_test.reshape(len(X_test), -1))\n",
    "\n",
    "# Evaluate\n",
    "print(classification_report(y_test, y_pred_tree))"
   ]
  },
  {
   "cell_type": "code",
   "execution_count": null,
   "id": "f33a6fbe",
   "metadata": {},
   "outputs": [],
   "source": [
    "# Evaluate Confusion Matrix\n",
    "dtaccuracy = dt_classifier.score(x_test, y_pred_tree)\n",
    "print(f\"Test accuracy: {dtaccuracy:.4f}\")\n",
    "\n",
    "cm = confusion_matrix(y_test, y_pred_tree)\n",
    "\n",
    "plt.figure(figsize=(10, 8))\n",
    "sns.heatmap(cm, annot=True, fmt=\"d\", cmap=\"Blues\")\n",
    "plt.xlabel(\"Predicted Label\")\n",
    "plt.ylabel(\"True Label\")\n",
    "plt.title(\"Confusion Matrix for Decision Tree\")\n",
    "plt.show()"
   ]
  },
  {
   "cell_type": "markdown",
   "id": "b15d0544",
   "metadata": {},
   "source": [
    "### 5. Convolutional Neural Network (CNN)"
   ]
  },
  {
   "cell_type": "code",
   "execution_count": null,
   "id": "bee1ed66",
   "metadata": {},
   "outputs": [],
   "source": [
    "# Implement CNN\n",
    "cnn_model = Sequential([\n",
    "    Conv2D(32, (3, 3), activation='relu', input_shape=(28, 28, 1)),\n",
    "    MaxPooling2D((2, 2)),\n",
    "    Dropout(0.25),\n",
    "    Flatten(),\n",
    "    Dense(128, activation='relu'),\n",
    "    Dropout(0.5),\n",
    "    Dense(10, activation='softmax')\n",
    "])\n",
    "\n",
    "cnn_model.compile(optimizer='adam', loss='categorical_crossentropy', metrics=['accuracy'])\n",
    "cnn_model.fit(X_train_cnn, y_train_cnn, epochs=10, batch_size=128, validation_data=(X_test_cnn, y_test_cnn))\n",
    "\n",
    "# Evaluate\n",
    "loss, cnnaccuracy = cnn_model.evaluate(X_test_cnn, y_test_cnn, verbose = 0)\n",
    "print(f\"Test loss: {loss:.4f}\")\n",
    "print(f\"Test accuracy: {cnnaccuracy:.4f}\")\n",
    "\n",
    "y_pred = np.argmax(cnn_model.predict(x_test), axis=1)\n",
    "\n",
    "cm = confusion_matrix(y_test, y_pred)\n",
    "\n",
    "plt.figure(figsize=(10, 8))\n",
    "sns.heatmap(cm, annot=True, fmt=\"d\", cmap=\"Blues\")\n",
    "plt.xlabel(\"Predicted Label\")\n",
    "plt.ylabel(\"True Label\")\n",
    "plt.title(\"Confusion Matrix(CNN)\")\n",
    "plt.show()"
   ]
  },
  {
   "cell_type": "code",
   "execution_count": null,
   "id": "fc7e2db8",
   "metadata": {},
   "outputs": [],
   "source": [
    "# Collecting all accuracies for comparison\n",
    "evaluation_metrics = {\n",
    "    \"KNN\": knnaccuracy,\n",
    "    \"SVM\": svmaccuracy,\n",
    "    \"Logistic Regression\": logregaccuracy,\n",
    "    \"Decision Tree\": dtaccuracy,\n",
    "    \"CNN\": cnnaccuracy,\n",
    "}\n",
    "\n",
    "# Creating a bar chart\n",
    "plt.figure(figsize=(10, 6))\n",
    "models = list(evaluation_metrics.keys())\n",
    "accuracies = list(evaluation_metrics.values())\n",
    "\n",
    "# Bar chart\n",
    "plt.bar(models, accuracies, color=['blue', 'orange', 'green', 'red', 'purple'])\n",
    "\n",
    "# Adding chart details\n",
    "plt.title(\"Model Evaluation Metrics\", fontsize=16)\n",
    "plt.xlabel(\"Models\", fontsize=14)\n",
    "plt.ylabel(\"Accuracy\", fontsize=14)\n",
    "plt.ylim(0, 1)  # Accuracy is between 0 and 1\n",
    "plt.xticks(fontsize=12)\n",
    "plt.yticks(fontsize=12)\n",
    "for i, v in enumerate(accuracies):\n",
    "    plt.text(i, v + 0.01, f\"{v:.4f}\", ha='center', fontsize=12)\n",
    "\n",
    "# Display chart\n",
    "plt.show()\n"
   ]
  },
  {
   "cell_type": "code",
   "execution_count": null,
   "id": "e91d08aa",
   "metadata": {},
   "outputs": [],
   "source": []
  }
 ],
 "metadata": {
  "kernelspec": {
   "display_name": "Python 3 (ipykernel)",
   "language": "python",
   "name": "python3"
  },
  "language_info": {
   "codemirror_mode": {
    "name": "ipython",
    "version": 3
   },
   "file_extension": ".py",
   "mimetype": "text/x-python",
   "name": "python",
   "nbconvert_exporter": "python",
   "pygments_lexer": "ipython3",
   "version": "3.11.5"
  }
 },
 "nbformat": 4,
 "nbformat_minor": 5
}
