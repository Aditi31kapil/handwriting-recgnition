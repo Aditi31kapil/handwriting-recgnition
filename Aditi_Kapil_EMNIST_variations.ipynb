{
 "cells": [
  {
   "cell_type": "markdown",
   "id": "8bd04b02",
   "metadata": {},
   "source": [
    "# Implementation of Machine Learning Models on EMNIST Dataset with Hyperparameter Variations"
   ]
  },
  {
   "cell_type": "markdown",
   "id": "656fcef0",
   "metadata": {},
   "source": [
    "## Importing Libraries"
   ]
  },
  {
   "cell_type": "code",
   "execution_count": 1,
   "id": "d11768c5",
   "metadata": {},
   "outputs": [
    {
     "name": "stdout",
     "output_type": "stream",
     "text": [
      "WARNING:tensorflow:From C:\\Users\\DELL\\anaconda3\\Lib\\site-packages\\keras\\src\\losses.py:2976: The name tf.losses.sparse_softmax_cross_entropy is deprecated. Please use tf.compat.v1.losses.sparse_softmax_cross_entropy instead.\n",
      "\n"
     ]
    }
   ],
   "source": [
    "# General imports\n",
    "import numpy as np\n",
    "import pandas as pd\n",
    "import os\n",
    "from sklearn.model_selection import train_test_split\n",
    "from sklearn.metrics import classification_report, confusion_matrix\n",
    "\n",
    "# Models\n",
    "import matplotlib as mpl\n",
    "import matplotlib.pyplot as plt\n",
    "from sklearn.neighbors import KNeighborsClassifier\n",
    "from sklearn.svm import SVC\n",
    "from sklearn.linear_model import LogisticRegression\n",
    "from sklearn.tree import DecisionTreeClassifier\n",
    "from sklearn.metrics import accuracy_score, confusion_matrix\n",
    "import seaborn as sns\n",
    "import tensorflow as tf\n",
    "from tensorflow import keras\n",
    "from tensorflow.keras.models import Sequential\n",
    "from tensorflow.keras.layers import Dense, Conv2D, Flatten, Dropout, MaxPooling2D\n",
    "from tensorflow.keras.utils import to_categorical\n",
    "\n"
   ]
  },
  {
   "cell_type": "markdown",
   "id": "38890a74",
   "metadata": {},
   "source": [
    "### Load and Preprocess the EMNIST Dataset"
   ]
  },
  {
   "cell_type": "code",
   "execution_count": 2,
   "id": "6330ea4a",
   "metadata": {},
   "outputs": [
    {
     "name": "stdout",
     "output_type": "stream",
     "text": [
      "Data preprocessing completed!\n",
      "Size of the dataset: 279998\n",
      "Number of elements in the training set: 239999\n",
      "Number of elements in the test set: 39999\n"
     ]
    },
    {
     "data": {
      "image/png": "[encoded data removed]",
      "text/plain": [
       "<Figure size 640x480 with 1 Axes>"
      ]
     },
     "metadata": {},
     "output_type": "display_data"
    }
   ],
   "source": [
    "# Load the CSV files\n",
    "train_data = pd.read_csv('emnist-digits-train.csv')\n",
    "test_data = pd.read_csv('emnist-digits-test.csv')\n",
    "\n",
    "# Separate features and labels\n",
    "X_train = train_data.iloc[:, 1:].values  # All columns except the first are features\n",
    "y_train = train_data.iloc[:, 0].values   # First column is the label\n",
    "X_test = test_data.iloc[:, 1:].values\n",
    "y_test = test_data.iloc[:, 0].values\n",
    "\n",
    "# Normalize pixel values\n",
    "X_train = X_train / 255.0\n",
    "X_test = X_test / 255.0\n",
    "\n",
    "# Reshape for CNN (if needed)\n",
    "X_train_cnn = X_train.reshape(-1, 28, 28, 1)\n",
    "X_test_cnn = X_test.reshape(-1, 28, 28, 1)\n",
    "\n",
    "# One-hot encoding for CNN\n",
    "y_train_cnn = to_categorical(y_train)\n",
    "y_test_cnn = to_categorical(y_test)\n",
    "\n",
    "print(\"Data preprocessing completed!\")\n",
    "\n",
    "\n",
    "# Print dataset information\n",
    "print(\"Size of the dataset:\", len(X_train) + len(X_test))\n",
    "print(\"Number of elements in the training set:\", len(X_train))\n",
    "print(\"Number of elements in the test set:\", len(X_test))\n",
    "\n",
    "# Visualize a sample image\n",
    "def plot_sample(index, data_set='train'):\n",
    "    if data_set == 'train':\n",
    "        sample = X_train[index]\n",
    "        label = y_train[index]\n",
    "    else:\n",
    "        sample = X_test[index]\n",
    "        label = \"Unknown\"  # No label in test set\n",
    "    \n",
    "    sample_image = sample.reshape(28, 28)\n",
    "    plt.imshow(sample_image, cmap=\"binary\")\n",
    "    plt.axis(\"off\")\n",
    "    plt.title(f\"Label: {label}\")\n",
    "    plt.show()\n",
    "\n",
    "# Plot sample image (e.g., index 810 from training set)\n",
    "plot_sample(810)"
   ]
  },
  {
   "cell_type": "markdown",
   "id": "9edccbda",
   "metadata": {},
   "source": [
    "# 1. K-Nearest Neighbors (K-NN)"
   ]
  },
  {
   "cell_type": "code",
   "execution_count": null,
   "id": "d61dbcbf",
   "metadata": {},
   "outputs": [
    {
     "name": "stdout",
     "output_type": "stream",
     "text": [
      "K-NN with k=3\n"
     ]
    }
   ],
   "source": [
    "# Implement K-NN with different values of k\n",
    "for k in [3, 5, 7]:\n",
    "    print(f\"K-NN with k={k}\")\n",
    "    knn = KNeighborsClassifier(n_neighbors=k)\n",
    "    knn.fit(X_train.reshape(len(X_train), -1), y_train)\n",
    "    y_pred_knn = knn.predict(X_test.reshape(len(X_test), -1))\n",
    "    print(classification_report(y_test, y_pred_knn))\n",
    "    #Evaluate Confusion Matrix\n",
    "    knnaccuracy = knn.score(X_test, y_test)\n",
    "    print(f\"Test accuracy: {knnaccuracy:.4f}\")\n",
    "    cm = confusion_matrix(y_test, y_pred_knn)\n",
    "\n",
    "    plt.figure(figsize=(10, 8))\n",
    "    sns.heatmap(cm, annot=True, fmt=\"d\", cmap=\"Blues\")\n",
    "    plt.xlabel(\"Predicted Label\")\n",
    "    plt.ylabel(\"True Label\")\n",
    "    plt.title(\"Confusion Matrix(KNN)\")\n",
    "    plt.show()"
   ]
  },
  {
   "cell_type": "markdown",
   "id": "4c27e36f",
   "metadata": {},
   "source": [
    "# 2. Support Vector Machine (SVM)"
   ]
  },
  {
   "cell_type": "code",
   "execution_count": null,
   "id": "78ded651",
   "metadata": {},
   "outputs": [],
   "source": [
    "# Implement SVM with different values of C\n",
    "for c in [0.1, 1.0, 10.0]:\n",
    "    print(f\"SVM with C={c}\")\n",
    "    svm = SVC(C=c, kernel='linear')\n",
    "    svm.fit(X_train.reshape(len(X_train), -1), y_train)\n",
    "    y_pred_svm = svm.predict(X_test.reshape(len(X_test), -1))\n",
    "    print(classification_report(y_test, y_pred_svm))\n",
    "    #Evaluate Confusion Matrix\n",
    "    svmaccuracy = accuracy_score(y_test, y_pred_svm)\n",
    "    print(f\"Test accuracy: {svmaccuracy:.4f}\")\n",
    "\n",
    "    cm = confusion_matrix(y_test, y_pred_svm)\n",
    "\n",
    "    plt.figure(figsize=(10, 8))\n",
    "    sns.heatmap(cm, annot=True, fmt=\"d\", cmap=\"Blues\")\n",
    "    plt.xlabel(\"Predicted Label\")\n",
    "    plt.ylabel(\"True Label\")\n",
    "    plt.title(\"Confusion Matrix(SVM)\")\n",
    "    plt.show()"
   ]
  },
  {
   "cell_type": "markdown",
   "id": "a6b2140e",
   "metadata": {},
   "source": [
    "\n",
    "# 3. Logistic Regression"
   ]
  },
  {
   "cell_type": "code",
   "execution_count": null,
   "id": "721a3815",
   "metadata": {},
   "outputs": [],
   "source": [
    "# Implement Logistic Regression with different solvers\n",
    "for solver in ['lbfgs', 'saga', 'liblinear']:\n",
    "    print(f\"Logistic Regression with solver={solver}\")\n",
    "    log_reg = LogisticRegression(max_iter=200, solver=solver)\n",
    "    log_reg.fit(X_train.reshape(len(X_train), -1), y_train)\n",
    "    y_pred_log_reg = log_reg.predict(X_test.reshape(len(X_test), -1))\n",
    "    print(classification_report(y_test, y_pred_log_reg))\n",
    "    #Evaluate Confusion Matrix\n",
    "    logregaccuracy = logreg.score(X_test, y_test)\n",
    "    print(f\"Logistic Regression Test Accuracy: {logregaccuracy:.4f}\")\n",
    "\n",
    "    cm_logreg = confusion_matrix(y_test, y_pred_log_reg)\n",
    "\n",
    "    plt.figure(figsize=(10, 8))\n",
    "    sns.heatmap(cm_logreg, annot=True, fmt=\"d\", cmap=\"Blues\")\n",
    "    plt.xlabel(\"Predicted Label\")\n",
    "    plt.ylabel(\"True Label\")\n",
    "    plt.title(\"Confusion Matrix (Logistic Regression)\")\n",
    "    plt.show()"
   ]
  },
  {
   "cell_type": "markdown",
   "id": "1be6c6c0",
   "metadata": {},
   "source": [
    "# 4. Decision Tree"
   ]
  },
  {
   "cell_type": "code",
   "execution_count": null,
   "id": "86631fbd",
   "metadata": {},
   "outputs": [],
   "source": [
    "# Implement Decision Tree with different depths\n",
    "for depth in [5, 10, 20]:\n",
    "    print(f\"Decision Tree with max_depth={depth}\")\n",
    "    decision_tree = DecisionTreeClassifier(max_depth=depth)\n",
    "    decision_tree.fit(X_train.reshape(len(X_train), -1), y_train)\n",
    "    y_pred_tree = decision_tree.predict(X_test.reshape(len(X_test), -1))\n",
    "    print(classification_report(y_test, y_pred_tree))\n",
    "    # Evaluate Confusion Matrix\n",
    "    dtaccuracy = dt_classifier.score(x_test, y_pred_tree)\n",
    "    print(f\"Test accuracy: {dtaccuracy:.4f}\")\n",
    "\n",
    "    cm = confusion_matrix(y_test, y_pred_tree)\n",
    "\n",
    "    plt.figure(figsize=(10, 8))\n",
    "    sns.heatmap(cm, annot=True, fmt=\"d\", cmap=\"Blues\")\n",
    "    plt.xlabel(\"Predicted Label\")\n",
    "    plt.ylabel(\"True Label\")\n",
    "    plt.title(\"Confusion Matrix for Decision Tree\")\n",
    "    plt.show()"
   ]
  },
  {
   "cell_type": "markdown",
   "id": "2f9ef66a",
   "metadata": {},
   "source": [
    "# 5. Convolutional Neural Network (CNN)"
   ]
  },
  {
   "cell_type": "code",
   "execution_count": null,
   "id": "7ed606b8",
   "metadata": {},
   "outputs": [],
   "source": [
    "# Implement CNN with different configurations\n",
    "for dropout_rate in [0.25, 0.5]:\n",
    "    for epochs in [5, 10]:\n",
    "        print(f\"CNN with dropout_rate={dropout_rate}, epochs={epochs}\")\n",
    "        cnn_model = Sequential([\n",
    "            Conv2D(32, (3, 3), activation='relu', input_shape=(28, 28, 1)),\n",
    "            MaxPooling2D((2, 2)),\n",
    "            Dropout(dropout_rate),\n",
    "            Flatten(),\n",
    "            Dense(128, activation='relu'),\n",
    "            Dropout(dropout_rate),\n",
    "            Dense(10, activation='softmax')\n",
    "        ])\n",
    "        \n",
    "        cnn_model.compile(optimizer='adam', loss='categorical_crossentropy', metrics=['accuracy'])\n",
    "        cnn_model.fit(X_train_cnn, y_train_cnn, epochs=epochs, batch_size=32, validation_data=(X_test_cnn, y_test_cnn))\n",
    "        cnn_model.evaluate(X_test_cnn, y_test_cnn)\n",
    "        # Evaluate\n",
    "        loss, cnnaccuracy = cnn_model.evaluate(X_test_cnn, y_test_cnn, verbose = 0)\n",
    "        print(f\"Test loss: {loss:.4f}\")\n",
    "        print(f\"Test accuracy: {cnnaccuracy:.4f}\")\n",
    "        y_pred = np.argmax(cnn_model.predict(x_test), axis=1)\n",
    "\n",
    "        cm = confusion_matrix(y_test, y_pred)\n",
    "        plt.figure(figsize=(10, 8))\n",
    "        sns.heatmap(cm, annot=True, fmt=\"d\", cmap=\"Blues\")\n",
    "        plt.xlabel(\"Predicted Label\")\n",
    "        plt.ylabel(\"True Label\")\n",
    "        plt.title(\"Confusion Matrix(CNN)\")\n",
    "        plt.show()\n"
   ]
  },
  {
   "cell_type": "code",
   "execution_count": null,
   "id": "b16a108b",
   "metadata": {},
   "outputs": [],
   "source": []
  }
 ],
 "metadata": {
  "kernelspec": {
   "display_name": "Python 3 (ipykernel)",
   "language": "python",
   "name": "python3"
  },
  "language_info": {
   "codemirror_mode": {
    "name": "ipython",
    "version": 3
   },
   "file_extension": ".py",
   "mimetype": "text/x-python",
   "name": "python",
   "nbconvert_exporter": "python",
   "pygments_lexer": "ipython3",
   "version": "3.11.5"
  }
 },
 "nbformat": 4,
 "nbformat_minor": 5
}
